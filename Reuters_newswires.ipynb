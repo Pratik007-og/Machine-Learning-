{
 "cells": [
  {
   "cell_type": "code",
   "execution_count": 1,
   "metadata": {},
   "outputs": [
    {
     "name": "stderr",
     "output_type": "stream",
     "text": [
      "/usr/lib/python3/dist-packages/h5py/__init__.py:36: FutureWarning: Conversion of the second argument of issubdtype from `float` to `np.floating` is deprecated. In future, it will be treated as `np.float64 == np.dtype(float).type`.\n",
      "  from ._conv import register_converters as _register_converters\n",
      "Using TensorFlow backend.\n"
     ]
    }
   ],
   "source": [
    "#loading reuters dataset\n",
    "from keras.datasets import reuters"
   ]
  },
  {
   "cell_type": "code",
   "execution_count": 3,
   "metadata": {},
   "outputs": [
    {
     "name": "stdout",
     "output_type": "stream",
     "text": [
      "Downloading data from https://s3.amazonaws.com/text-datasets/reuters.npz\n",
      "2113536/2110848 [==============================] - 27s 13us/step\n"
     ]
    }
   ],
   "source": [
    "(train_data, train_labels), (test_data, test_labels) = reuters.load_data(num_words = 10000)"
   ]
  },
  {
   "cell_type": "code",
   "execution_count": 4,
   "metadata": {},
   "outputs": [
    {
     "data": {
      "text/plain": [
       "8982"
      ]
     },
     "execution_count": 4,
     "metadata": {},
     "output_type": "execute_result"
    }
   ],
   "source": [
    "len(train_data)"
   ]
  },
  {
   "cell_type": "code",
   "execution_count": 5,
   "metadata": {},
   "outputs": [
    {
     "data": {
      "text/plain": [
       "2246"
      ]
     },
     "execution_count": 5,
     "metadata": {},
     "output_type": "execute_result"
    }
   ],
   "source": [
    "len(test_data\n",
    "   )"
   ]
  },
  {
   "cell_type": "code",
   "execution_count": 6,
   "metadata": {},
   "outputs": [
    {
     "data": {
      "text/plain": [
       "[1,\n",
       " 245,\n",
       " 273,\n",
       " 207,\n",
       " 156,\n",
       " 53,\n",
       " 74,\n",
       " 160,\n",
       " 26,\n",
       " 14,\n",
       " 46,\n",
       " 296,\n",
       " 26,\n",
       " 39,\n",
       " 74,\n",
       " 2979,\n",
       " 3554,\n",
       " 14,\n",
       " 46,\n",
       " 4689,\n",
       " 4329,\n",
       " 86,\n",
       " 61,\n",
       " 3499,\n",
       " 4795,\n",
       " 14,\n",
       " 61,\n",
       " 451,\n",
       " 4329,\n",
       " 17,\n",
       " 12]"
      ]
     },
     "execution_count": 6,
     "metadata": {},
     "output_type": "execute_result"
    }
   ],
   "source": [
    "train_data[10]"
   ]
  },
  {
   "cell_type": "code",
   "execution_count": 25,
   "metadata": {},
   "outputs": [],
   "source": [
    "#decoding newswires back to text\n",
    "word_index = reuters.get_word_index()\n",
    "reverse_word_index = dict((value,key) for (key,value) in word_index.items())\n",
    "decoded_newswire = ' '.join([reverse_word_index.get(i - 3, '?') for i in train_data[0]])"
   ]
  },
  {
   "cell_type": "code",
   "execution_count": 9,
   "metadata": {},
   "outputs": [],
   "source": [
    "#encoding the data. Preparing data\n",
    "import numpy as np"
   ]
  },
  {
   "cell_type": "code",
   "execution_count": 21,
   "metadata": {},
   "outputs": [],
   "source": [
    "def vectorize_sequences(sequences,dimension = 10000):\n",
    "    results = np.zeros((len(sequences), dimension))\n",
    "    for i,sequence in enumerate(sequences):\n",
    "        results[i,sequence] = 1\n",
    "    return results\n",
    "    \n",
    "#Using one-hot encoding for vectorizing labels:\n",
    "'''def to_one_hot(labels, dimension2 = 46):\n",
    "    results = np.zeros((len(labels), dimension2))\n",
    "    for i,label in enumerate(labels):\n",
    "        results[i, label] = 1.\n",
    "    return results'''"
   ]
  },
  {
   "cell_type": "code",
   "execution_count": 24,
   "metadata": {},
   "outputs": [],
   "source": [
    "x_train = vectorize_sequences(train_data)\n",
    "x_test = vectorize_sequences(test_data)\n",
    "\n",
    "#one_hot_train_labels = to_one_hot(train_labels)\n",
    "#one_hot_test_labels = to_one_hot(test_labels)\n",
    "\n",
    "from keras.utils.np_utils import to_categorical\n",
    "one_hot_train_labels = to_categorical(train_labels)\n",
    "one_hot_test_labels = to_categorical(test_labels)\n"
   ]
  },
  {
   "cell_type": "code",
   "execution_count": 28,
   "metadata": {},
   "outputs": [],
   "source": [
    "#building your network\n",
    "from keras import models\n",
    "from keras import layers\n",
    "\n",
    "model = models.Sequential()\n",
    "model.add(layers.Dense(64, activation='relu',input_shape = (10000,)))\n",
    "model.add(layers.Dense(64, activation='relu'))\n",
    "model.add(layers.Dense(46, activation = 'softmax'))"
   ]
  },
  {
   "cell_type": "code",
   "execution_count": 36,
   "metadata": {},
   "outputs": [],
   "source": [
    "#compiling the model\n",
    "model.compile(optimizer='rmsprop',\n",
    "              loss='categorical_crossentropy',\n",
    "              metrics=['accuracy'])"
   ]
  },
  {
   "cell_type": "code",
   "execution_count": 39,
   "metadata": {},
   "outputs": [],
   "source": [
    "#setting aside a validation set\n",
    "x_val = x_train[:1000]\n",
    "partial_x_train = x_train[1000:]\n",
    "\n",
    "y_val = one_hot_train_labels[:1000]\n",
    "partial_y_train = one_hot_train_labels[1000:]"
   ]
  },
  {
   "cell_type": "code",
   "execution_count": 40,
   "metadata": {},
   "outputs": [
    {
     "name": "stdout",
     "output_type": "stream",
     "text": [
      "Train on 7982 samples, validate on 1000 samples\n",
      "Epoch 1/20\n",
      "7982/7982 [==============================] - 1s 114us/step - loss: 2.6730 - accuracy: 0.5219 - val_loss: 1.7456 - val_accuracy: 0.6460\n",
      "Epoch 2/20\n",
      "7982/7982 [==============================] - 1s 75us/step - loss: 1.4093 - accuracy: 0.7146 - val_loss: 1.3006 - val_accuracy: 0.7300\n",
      "Epoch 3/20\n",
      "7982/7982 [==============================] - 1s 80us/step - loss: 1.0266 - accuracy: 0.7816 - val_loss: 1.1197 - val_accuracy: 0.7680\n",
      "Epoch 4/20\n",
      "7982/7982 [==============================] - 1s 87us/step - loss: 0.8097 - accuracy: 0.8302 - val_loss: 1.0444 - val_accuracy: 0.7820\n",
      "Epoch 5/20\n",
      "7982/7982 [==============================] - 1s 69us/step - loss: 0.6461 - accuracy: 0.8641 - val_loss: 0.9491 - val_accuracy: 0.8020\n",
      "Epoch 6/20\n",
      "7982/7982 [==============================] - 1s 72us/step - loss: 0.5203 - accuracy: 0.8896 - val_loss: 0.9316 - val_accuracy: 0.8010\n",
      "Epoch 7/20\n",
      "7982/7982 [==============================] - 1s 73us/step - loss: 0.4223 - accuracy: 0.9122 - val_loss: 0.9042 - val_accuracy: 0.8120\n",
      "Epoch 8/20\n",
      "7982/7982 [==============================] - 1s 80us/step - loss: 0.3418 - accuracy: 0.9280 - val_loss: 0.8946 - val_accuracy: 0.8100\n",
      "Epoch 9/20\n",
      "7982/7982 [==============================] - 1s 81us/step - loss: 0.2837 - accuracy: 0.9366 - val_loss: 0.8825 - val_accuracy: 0.8160\n",
      "Epoch 10/20\n",
      "7982/7982 [==============================] - 1s 73us/step - loss: 0.2433 - accuracy: 0.9432 - val_loss: 0.9015 - val_accuracy: 0.8170\n",
      "Epoch 11/20\n",
      "7982/7982 [==============================] - 1s 71us/step - loss: 0.2115 - accuracy: 0.9486 - val_loss: 0.9223 - val_accuracy: 0.8110\n",
      "Epoch 12/20\n",
      "7982/7982 [==============================] - 1s 80us/step - loss: 0.1806 - accuracy: 0.9529 - val_loss: 0.9948 - val_accuracy: 0.8100\n",
      "Epoch 13/20\n",
      "7982/7982 [==============================] - 1s 84us/step - loss: 0.1670 - accuracy: 0.9529 - val_loss: 0.9183 - val_accuracy: 0.8190\n",
      "Epoch 14/20\n",
      "7982/7982 [==============================] - 1s 69us/step - loss: 0.1546 - accuracy: 0.9543 - val_loss: 0.9716 - val_accuracy: 0.8180\n",
      "Epoch 15/20\n",
      "7982/7982 [==============================] - 1s 83us/step - loss: 0.1429 - accuracy: 0.9549 - val_loss: 1.0505 - val_accuracy: 0.7950\n",
      "Epoch 16/20\n",
      "7982/7982 [==============================] - 1s 70us/step - loss: 0.1364 - accuracy: 0.9549 - val_loss: 1.0055 - val_accuracy: 0.8150\n",
      "Epoch 17/20\n",
      "7982/7982 [==============================] - 1s 81us/step - loss: 0.1240 - accuracy: 0.9560 - val_loss: 1.0025 - val_accuracy: 0.8120\n",
      "Epoch 18/20\n",
      "7982/7982 [==============================] - 1s 80us/step - loss: 0.1168 - accuracy: 0.9590 - val_loss: 1.0317 - val_accuracy: 0.8160\n",
      "Epoch 19/20\n",
      "7982/7982 [==============================] - 1s 81us/step - loss: 0.1171 - accuracy: 0.9573 - val_loss: 1.0703 - val_accuracy: 0.8020\n",
      "Epoch 20/20\n",
      "7982/7982 [==============================] - 1s 67us/step - loss: 0.1102 - accuracy: 0.9594 - val_loss: 1.0884 - val_accuracy: 0.8020\n"
     ]
    }
   ],
   "source": [
    "#training the model\n",
    "history = model.fit(partial_x_train,\n",
    "                    partial_y_train,\n",
    "                    epochs=20,\n",
    "                    batch_size=512,\n",
    "                    validation_data=(x_val,y_val))"
   ]
  },
  {
   "cell_type": "code",
   "execution_count": 42,
   "metadata": {},
   "outputs": [
    {
     "data": {
      "image/png": "[encoded data removed]",
      "text/plain": [
       "<matplotlib.figure.Figure at 0x7ff555b0c588>"
      ]
     },
     "metadata": {
      "needs_background": "light"
     },
     "output_type": "display_data"
    }
   ],
   "source": [
    "#plotting the training and validation loss\n",
    "import matplotlib.pyplot as plt\n",
    "\n",
    "his_dict = history.history\n",
    "loss = his_dict['loss']\n",
    "val_loss = his_dict['val_loss']\n",
    "\n",
    "epochs = range(1, len(his_dict['loss'])+1)\n",
    "\n",
    "plt.plot(epochs, his_dict['loss'], 'bo', label='Training loss')\n",
    "plt.plot(epochs, his_dict['val_loss'], 'b', label='Validation loss')\n",
    "plt.title('Training and validation loss')\n",
    "plt.xlabel('Epochs')\n",
    "plt.ylabel('Loss')\n",
    "plt.legend()\n",
    "plt.show()"
   ]
  },
  {
   "cell_type": "code",
   "execution_count": 50,
   "metadata": {},
   "outputs": [
    {
     "data": {
      "text/plain": [
       "<function matplotlib.pyplot.show(*args, **kw)>"
      ]
     },
     "execution_count": 50,
     "metadata": {},
     "output_type": "execute_result"
    },
    {
     "data": {
      "image/png": "[encoded data removed]",
      "text/plain": [
       "<matplotlib.figure.Figure at 0x7ff5557c4550>"
      ]
     },
     "metadata": {
      "needs_background": "light"
     },
     "output_type": "display_data"
    }
   ],
   "source": [
    "#plotting training and validation accuracy\n",
    "plt.clf()\n",
    "his_dict = history.history\n",
    "acc = his_dict['accuracy']\n",
    "val_acc = his_dict['val_accuracy']\n",
    "\n",
    "plt.plot(epochs, his_dict['accuracy'],'bo',label='Traning accuracy')\n",
    "plt.plot(epochs, his_dict['val_accuracy'],'b',label='Validation accuracy')\n",
    "plt.title('Training and validation accuracy')\n",
    "plt.xlabel('Epochs')\n",
    "plt.ylabel('Accuracy')\n",
    "plt.legend()\n",
    "plt.show"
   ]
  },
  {
   "cell_type": "code",
   "execution_count": 52,
   "metadata": {},
   "outputs": [],
   "source": [
    "#retraining the model from scratch\n",
    "model = models.Sequential()\n",
    "model.add(layers.Dense(64, activation='relu',input_shape = (10000,)))\n",
    "model.add(layers.Dense(64, activation='relu'))\n",
    "model.add(layers.Dense(46, activation = 'softmax'))"
   ]
  },
  {
   "cell_type": "code",
   "execution_count": 53,
   "metadata": {},
   "outputs": [],
   "source": [
    "model.compile(optimizer='rmsprop',\n",
    "              loss='categorical_crossentropy',\n",
    "              metrics=['accuracy'])"
   ]
  },
  {
   "cell_type": "code",
   "execution_count": 62,
   "metadata": {},
   "outputs": [
    {
     "name": "stdout",
     "output_type": "stream",
     "text": [
      "Train on 7982 samples, validate on 1000 samples\n",
      "Epoch 1/15\n",
      "7982/7982 [==============================] - 1s 65us/step - loss: 0.0646 - accuracy: 0.9600 - val_loss: 1.8945 - val_accuracy: 0.7580\n",
      "Epoch 2/15\n",
      "7982/7982 [==============================] - 0s 61us/step - loss: 0.0652 - accuracy: 0.9588 - val_loss: 1.9213 - val_accuracy: 0.7660\n",
      "Epoch 3/15\n",
      "7982/7982 [==============================] - 0s 61us/step - loss: 0.0655 - accuracy: 0.9569 - val_loss: 1.9081 - val_accuracy: 0.7640\n",
      "Epoch 4/15\n",
      "7982/7982 [==============================] - 0s 56us/step - loss: 0.0636 - accuracy: 0.9595 - val_loss: 2.0019 - val_accuracy: 0.7560\n",
      "Epoch 5/15\n",
      "7982/7982 [==============================] - 0s 61us/step - loss: 0.0638 - accuracy: 0.9592 - val_loss: 1.9429 - val_accuracy: 0.7500\n",
      "Epoch 6/15\n",
      "7982/7982 [==============================] - 1s 65us/step - loss: 0.0641 - accuracy: 0.9599 - val_loss: 1.9735 - val_accuracy: 0.7510\n",
      "Epoch 7/15\n",
      "7982/7982 [==============================] - 0s 59us/step - loss: 0.0625 - accuracy: 0.9600 - val_loss: 2.0543 - val_accuracy: 0.7460\n",
      "Epoch 8/15\n",
      "7982/7982 [==============================] - 0s 60us/step - loss: 0.0653 - accuracy: 0.9580 - val_loss: 1.9779 - val_accuracy: 0.7520\n",
      "Epoch 9/15\n",
      "7982/7982 [==============================] - 1s 66us/step - loss: 0.0626 - accuracy: 0.9585 - val_loss: 1.9478 - val_accuracy: 0.7620\n",
      "Epoch 10/15\n",
      "7982/7982 [==============================] - 1s 68us/step - loss: 0.0630 - accuracy: 0.9603 - val_loss: 2.0339 - val_accuracy: 0.7540\n",
      "Epoch 11/15\n",
      "7982/7982 [==============================] - 1s 68us/step - loss: 0.0639 - accuracy: 0.9590 - val_loss: 1.9987 - val_accuracy: 0.7570\n",
      "Epoch 12/15\n",
      "7982/7982 [==============================] - 1s 71us/step - loss: 0.0624 - accuracy: 0.9604 - val_loss: 2.0191 - val_accuracy: 0.7560\n",
      "Epoch 13/15\n",
      "7982/7982 [==============================] - 0s 58us/step - loss: 0.0631 - accuracy: 0.9595 - val_loss: 2.0159 - val_accuracy: 0.7610\n",
      "Epoch 14/15\n",
      "7982/7982 [==============================] - 0s 60us/step - loss: 0.0627 - accuracy: 0.9588 - val_loss: 2.0642 - val_accuracy: 0.7590\n",
      "Epoch 15/15\n",
      "7982/7982 [==============================] - 0s 61us/step - loss: 0.0625 - accuracy: 0.9600 - val_loss: 1.9948 - val_accuracy: 0.7520\n",
      "2246/2246 [==============================] - 0s 77us/step\n",
      "[2.434780522106167, 0.7573463916778564]\n"
     ]
    }
   ],
   "source": [
    "model.fit(partial_x_train,\n",
    "         partial_y_train,\n",
    "         epochs=15,\n",
    "          batch_size=512,\n",
    "          validation_data = (x_val, y_val)\n",
    "         )\n",
    "results = model.evaluate(x_test, one_hot_test_labels)\n",
    "print(results)"
   ]
  },
  {
   "cell_type": "code",
   "execution_count": 65,
   "metadata": {},
   "outputs": [
    {
     "data": {
      "text/plain": [
       "(46,)"
      ]
     },
     "execution_count": 65,
     "metadata": {},
     "output_type": "execute_result"
    }
   ],
   "source": [
    "#generating predictions for new data\n",
    "predictions = model.predict(x_test)\n",
    "predictions[0].shape"
   ]
  },
  {
   "cell_type": "code",
   "execution_count": 66,
   "metadata": {},
   "outputs": [
    {
     "data": {
      "text/plain": [
       "0.99999994"
      ]
     },
     "execution_count": 66,
     "metadata": {},
     "output_type": "execute_result"
    }
   ],
   "source": [
    "np.sum(predictions[0])"
   ]
  },
  {
   "cell_type": "code",
   "execution_count": 68,
   "metadata": {},
   "outputs": [
    {
     "data": {
      "text/plain": [
       "3"
      ]
     },
     "execution_count": 68,
     "metadata": {},
     "output_type": "execute_result"
    }
   ],
   "source": [
    "#largest entry in the predicted class\n",
    "np.argmax(predictions[0])"
   ]
  },
  {
   "cell_type": "code",
   "execution_count": null,
   "metadata": {},
   "outputs": [],
   "source": []
  }
 ],
 "metadata": {
  "kernelspec": {
   "display_name": "Python 3",
   "language": "python",
   "name": "python3"
  },
  "language_info": {
   "codemirror_mode": {
    "name": "ipython",
    "version": 3
   },
   "file_extension": ".py",
   "mimetype": "text/x-python",
   "name": "python",
   "nbconvert_exporter": "python",
   "pygments_lexer": "ipython3",
   "version": "3.6.9"
  }
 },
 "nbformat": 4,
 "nbformat_minor": 4
}
